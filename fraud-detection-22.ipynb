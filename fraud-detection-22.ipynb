{
 "cells": [
  {
   "cell_type": "code",
   "execution_count": null,
   "id": "a5efa91f",
   "metadata": {
    "papermill": {
     "duration": 0.025918,
     "end_time": "2022-03-24T11:24:25.977147",
     "exception": false,
     "start_time": "2022-03-24T11:24:25.951229",
     "status": "completed"
    },
    "tags": []
   },
   "outputs": [],
   "source": []
  },
  {
   "cell_type": "raw",
   "id": "f228d66b",
   "metadata": {
    "execution": {
     "iopub.execute_input": "2022-03-24T11:22:20.342349Z",
     "iopub.status.busy": "2022-03-24T11:22:20.341896Z",
     "iopub.status.idle": "2022-03-24T11:22:22.179113Z",
     "shell.execute_reply": "2022-03-24T11:22:22.175823Z",
     "shell.execute_reply.started": "2022-03-24T11:22:20.342226Z"
    },
    "papermill": {
     "duration": 0.02401,
     "end_time": "2022-03-24T11:24:26.025755",
     "exception": false,
     "start_time": "2022-03-24T11:24:26.001745",
     "status": "completed"
    },
    "tags": []
   },
   "source": [
    "import matplotlib.pyplot as plt\n",
    "import numpy as np\n",
    "import pandas as pd\n",
    "import seaborn as sns\n",
    "from sklearn.model_selection import train_test_split\n",
    "\n",
    "from sklearn.manifold import TSNE\n",
    "\n",
    "from sklearn.linear_model import LogisticRegression\n",
    "\n",
    "from xgboost import XGBClassifier\n",
    "from xgboost import plot_importance\n",
    "import xgboost as xgb\n",
    "\n",
    "import os\n",
    "import warnings\n",
    "\n",
    "warnings.filterwarnings('ignore')\n",
    "\n",
    "print(os.listdir(\"../fraud detection/input\"))"
   ]
  },
  {
   "cell_type": "code",
   "execution_count": 1,
   "id": "e8908c5a",
   "metadata": {
    "execution": {
     "iopub.execute_input": "2022-03-24T11:24:26.080637Z",
     "iopub.status.busy": "2022-03-24T11:24:26.078896Z",
     "iopub.status.idle": "2022-03-24T11:24:26.161296Z",
     "shell.execute_reply": "2022-03-24T11:24:26.160505Z",
     "shell.execute_reply.started": "2022-03-24T11:22:22.180258Z"
    },
    "papermill": {
     "duration": 0.111503,
     "end_time": "2022-03-24T11:24:26.161590",
     "exception": true,
     "start_time": "2022-03-24T11:24:26.050087",
     "status": "failed"
    },
    "tags": []
   },
   "outputs": [
    {
     "ename": "NameError",
     "evalue": "name 'pd' is not defined",
     "output_type": "error",
     "traceback": [
      "\u001b[0;31m---------------------------------------------------------------------------\u001b[0m",
      "\u001b[0;31mNameError\u001b[0m                                 Traceback (most recent call last)",
      "\u001b[0;32m/tmp/ipykernel_21/1400178915.py\u001b[0m in \u001b[0;36m<module>\u001b[0;34m\u001b[0m\n\u001b[0;32m----> 1\u001b[0;31m \u001b[0mdata_train\u001b[0m \u001b[0;34m=\u001b[0m \u001b[0mpd\u001b[0m\u001b[0;34m.\u001b[0m\u001b[0mread_csv\u001b[0m\u001b[0;34m(\u001b[0m\u001b[0;34m\"../fraud detection/input/creditcard_train.csv\"\u001b[0m\u001b[0;34m)\u001b[0m\u001b[0;34m\u001b[0m\u001b[0;34m\u001b[0m\u001b[0m\n\u001b[0m\u001b[1;32m      2\u001b[0m \u001b[0mdata_train\u001b[0m\u001b[0;34m.\u001b[0m\u001b[0mhead\u001b[0m\u001b[0;34m(\u001b[0m\u001b[0;34m)\u001b[0m\u001b[0;34m\u001b[0m\u001b[0;34m\u001b[0m\u001b[0m\n",
      "\u001b[0;31mNameError\u001b[0m: name 'pd' is not defined"
     ]
    }
   ],
   "source": [
    "data_train = pd.read_csv(\"../fraud detection/input/creditcard_train.csv\")\n",
    "data_train.head()"
   ]
  },
  {
   "cell_type": "code",
   "execution_count": null,
   "id": "58c6c6a1",
   "metadata": {
    "execution": {
     "iopub.status.busy": "2022-03-24T11:22:22.182615Z",
     "iopub.status.idle": "2022-03-24T11:22:22.183107Z",
     "shell.execute_reply": "2022-03-24T11:22:22.182892Z",
     "shell.execute_reply.started": "2022-03-24T11:22:22.182862Z"
    },
    "papermill": {
     "duration": null,
     "end_time": null,
     "exception": null,
     "start_time": null,
     "status": "pending"
    },
    "tags": []
   },
   "outputs": [],
   "source": [
    "data_test = pd.read_csv(\"../fraud detection/input/creditcard_test.csv\")\n",
    "data_test.head()"
   ]
  },
  {
   "cell_type": "code",
   "execution_count": null,
   "id": "76d3e590",
   "metadata": {
    "execution": {
     "iopub.status.busy": "2022-03-24T11:22:22.184837Z",
     "iopub.status.idle": "2022-03-24T11:22:22.185372Z",
     "shell.execute_reply": "2022-03-24T11:22:22.185096Z",
     "shell.execute_reply.started": "2022-03-24T11:22:22.18506Z"
    },
    "papermill": {
     "duration": null,
     "end_time": null,
     "exception": null,
     "start_time": null,
     "status": "pending"
    },
    "tags": []
   },
   "outputs": [],
   "source": [
    "print(data_train.shape)\n",
    "print(data_test.shape)"
   ]
  },
  {
   "cell_type": "code",
   "execution_count": null,
   "id": "37212be8",
   "metadata": {
    "execution": {
     "iopub.status.busy": "2022-03-24T11:22:22.187173Z",
     "iopub.status.idle": "2022-03-24T11:22:22.187654Z",
     "shell.execute_reply": "2022-03-24T11:22:22.187421Z",
     "shell.execute_reply.started": "2022-03-24T11:22:22.187398Z"
    },
    "papermill": {
     "duration": null,
     "end_time": null,
     "exception": null,
     "start_time": null,
     "status": "pending"
    },
    "tags": []
   },
   "outputs": [],
   "source": [
    "data_train.drop_duplicates(subset=None, inplace=True)\n",
    "print(data_train.shape)"
   ]
  },
  {
   "cell_type": "code",
   "execution_count": null,
   "id": "fbafe895",
   "metadata": {
    "execution": {
     "iopub.status.busy": "2022-03-24T11:22:22.189034Z",
     "iopub.status.idle": "2022-03-24T11:22:22.189518Z",
     "shell.execute_reply": "2022-03-24T11:22:22.189295Z",
     "shell.execute_reply.started": "2022-03-24T11:22:22.18927Z"
    },
    "papermill": {
     "duration": null,
     "end_time": null,
     "exception": null,
     "start_time": null,
     "status": "pending"
    },
    "tags": []
   },
   "outputs": [],
   "source": [
    "def draw_histograms(dataframe, features, rows, cols):\n",
    "    fig=plt.figure(figsize=(20,20))\n",
    "    for i, feature in enumerate(features):\n",
    "        ax=fig.add_subplot(rows,cols,i+1)\n",
    "        dataframe[feature].hist(bins=20,ax=ax,facecolor='midnightblue')\n",
    "        ax.set_title(feature+\" Distribution\",color='DarkRed')\n",
    "        ax.set_yscale('log')\n",
    "    fig.tight_layout()  \n",
    "    plt.show()\n",
    "draw_histograms(data_test, data_test.columns,8,4)"
   ]
  },
  {
   "cell_type": "code",
   "execution_count": null,
   "id": "8a571fe3",
   "metadata": {
    "execution": {
     "iopub.status.busy": "2022-03-24T11:22:22.190919Z",
     "iopub.status.idle": "2022-03-24T11:22:22.191407Z",
     "shell.execute_reply": "2022-03-24T11:22:22.191174Z",
     "shell.execute_reply.started": "2022-03-24T11:22:22.191148Z"
    },
    "papermill": {
     "duration": null,
     "end_time": null,
     "exception": null,
     "start_time": null,
     "status": "pending"
    },
    "tags": []
   },
   "outputs": [],
   "source": [
    "data_train.columns"
   ]
  },
  {
   "cell_type": "code",
   "execution_count": null,
   "id": "7d6cea67",
   "metadata": {
    "execution": {
     "iopub.status.busy": "2022-03-24T11:22:22.194154Z",
     "iopub.status.idle": "2022-03-24T11:22:22.194483Z",
     "shell.execute_reply": "2022-03-24T11:22:22.194338Z",
     "shell.execute_reply.started": "2022-03-24T11:22:22.194321Z"
    },
    "papermill": {
     "duration": null,
     "end_time": null,
     "exception": null,
     "start_time": null,
     "status": "pending"
    },
    "tags": []
   },
   "outputs": [],
   "source": [
    "plt.figure(figsize=(15,10))\n",
    "sns.distplot(data_train['Time'])"
   ]
  },
  {
   "cell_type": "code",
   "execution_count": null,
   "id": "d9e86f48",
   "metadata": {
    "execution": {
     "iopub.status.busy": "2022-03-24T11:22:22.195826Z",
     "iopub.status.idle": "2022-03-24T11:22:22.196149Z",
     "shell.execute_reply": "2022-03-24T11:22:22.195989Z",
     "shell.execute_reply.started": "2022-03-24T11:22:22.195973Z"
    },
    "papermill": {
     "duration": null,
     "end_time": null,
     "exception": null,
     "start_time": null,
     "status": "pending"
    },
    "tags": []
   },
   "outputs": [],
   "source": [
    "plt.figure(figsize=(15,10))\n",
    "sns.distplot(data_train['Amount'])"
   ]
  },
  {
   "cell_type": "code",
   "execution_count": null,
   "id": "23e2d91a",
   "metadata": {
    "execution": {
     "iopub.status.busy": "2022-03-24T11:22:22.1971Z",
     "iopub.status.idle": "2022-03-24T11:22:22.197428Z",
     "shell.execute_reply": "2022-03-24T11:22:22.197267Z",
     "shell.execute_reply.started": "2022-03-24T11:22:22.197251Z"
    },
    "papermill": {
     "duration": null,
     "end_time": null,
     "exception": null,
     "start_time": null,
     "status": "pending"
    },
    "tags": []
   },
   "outputs": [],
   "source": [
    "data_train.insert(30, 'Hour', data_train['Time'].apply(lambda x: np.ceil(float(x)/3600) % 24), allow_duplicates = True)\n",
    "data_test.insert(30, 'Hour', data_test['Time'].apply(lambda x: np.ceil(float(x)/3600) % 24), allow_duplicates = True)"
   ]
  },
  {
   "cell_type": "code",
   "execution_count": null,
   "id": "3449ee1a",
   "metadata": {
    "execution": {
     "iopub.status.busy": "2022-03-24T11:22:22.198325Z",
     "iopub.status.idle": "2022-03-24T11:22:22.198627Z",
     "shell.execute_reply": "2022-03-24T11:22:22.198476Z",
     "shell.execute_reply.started": "2022-03-24T11:22:22.198461Z"
    },
    "papermill": {
     "duration": null,
     "end_time": null,
     "exception": null,
     "start_time": null,
     "status": "pending"
    },
    "tags": []
   },
   "outputs": [],
   "source": [
    "pd.pivot_table(\n",
    "    columns=\"Class\", \n",
    "    index=\"Hour\", \n",
    "    values= 'Amount', \n",
    "    aggfunc='count', \n",
    "    data=data_train)"
   ]
  },
  {
   "cell_type": "code",
   "execution_count": null,
   "id": "0f59a8bd",
   "metadata": {
    "execution": {
     "iopub.status.busy": "2022-03-24T11:22:22.199779Z",
     "iopub.status.idle": "2022-03-24T11:22:22.200089Z",
     "shell.execute_reply": "2022-03-24T11:22:22.199941Z",
     "shell.execute_reply.started": "2022-03-24T11:22:22.199925Z"
    },
    "papermill": {
     "duration": null,
     "end_time": null,
     "exception": null,
     "start_time": null,
     "status": "pending"
    },
    "tags": []
   },
   "outputs": [],
   "source": [
    "#Hour vs Class\n",
    "fig, axes = plt.subplots(2, 1, figsize=(15, 10))\n",
    "\n",
    "sns.countplot(\n",
    "    x=\"Hour\",\n",
    "    data=data_train[data_train['Class'] == 0], \n",
    "    color=\"#98D8D8\",  \n",
    "    ax=axes[0])\n",
    "axes[0].set_title(\"Non-Fraudulent Transaction\")\n",
    "\n",
    "\n",
    "sns.countplot(\n",
    "    x=\"Hour\",\n",
    "    data=data_train[data_train['Class'] == 1],\n",
    "    color=\"#F08030\", \n",
    "    ax=axes[1])\n",
    "axes[1].set_title(\"Fraudulent Transaction\")"
   ]
  },
  {
   "cell_type": "code",
   "execution_count": null,
   "id": "05a975db",
   "metadata": {
    "execution": {
     "iopub.status.busy": "2022-03-24T11:22:22.201291Z",
     "iopub.status.idle": "2022-03-24T11:22:22.201598Z",
     "shell.execute_reply": "2022-03-24T11:22:22.201454Z",
     "shell.execute_reply.started": "2022-03-24T11:22:22.201438Z"
    },
    "papermill": {
     "duration": null,
     "end_time": null,
     "exception": null,
     "start_time": null,
     "status": "pending"
    },
    "tags": []
   },
   "outputs": [],
   "source": [
    "data_test.head()"
   ]
  },
  {
   "cell_type": "code",
   "execution_count": null,
   "id": "44e21f69",
   "metadata": {
    "execution": {
     "iopub.status.busy": "2022-03-24T11:22:22.202467Z",
     "iopub.status.idle": "2022-03-24T11:22:22.20277Z",
     "shell.execute_reply": "2022-03-24T11:22:22.202628Z",
     "shell.execute_reply.started": "2022-03-24T11:22:22.202611Z"
    },
    "papermill": {
     "duration": null,
     "end_time": null,
     "exception": null,
     "start_time": null,
     "status": "pending"
    },
    "tags": []
   },
   "outputs": [],
   "source": [
    "data_train.head()"
   ]
  },
  {
   "cell_type": "code",
   "execution_count": null,
   "id": "47308ec0",
   "metadata": {
    "execution": {
     "iopub.status.busy": "2022-03-24T11:22:22.20356Z",
     "iopub.status.idle": "2022-03-24T11:22:22.203864Z",
     "shell.execute_reply": "2022-03-24T11:22:22.203724Z",
     "shell.execute_reply.started": "2022-03-24T11:22:22.203708Z"
    },
    "papermill": {
     "duration": null,
     "end_time": null,
     "exception": null,
     "start_time": null,
     "status": "pending"
    },
    "tags": []
   },
   "outputs": [],
   "source": [
    "data_nonfraud = data_train[data_train['Class'] == 0].sample(2000)\n",
    "data_fraud  = data_train[data_train['Class'] == 1]\n",
    "\n",
    "data_new = data_nonfraud.append(data_fraud).sample(frac=1)\n",
    "X = data_new.drop(['Class'], axis = 1).values\n",
    "y = data_new['Class'].values\n",
    "\n",
    "tsne = TSNE(n_components=2, random_state=42)\n",
    "X_transformation = tsne.fit_transform(X)\n",
    "#Y_transformation = tsne.fit_transform(data_test)\n",
    "\n",
    "plt.figure(figsize=(10, 10))\n",
    "plt.title(\"t-SNE Dimensionality Reduction\")\n",
    "\n",
    "def plot_data(X, y):\n",
    "    plt.scatter(X[y == 0, 0], X[y == 0, 1], label=\"Non_Fraudulent\", alpha=0.5, linewidth=0.15, c='#17becf')\n",
    "    plt.scatter(X[y == 1, 0], X[y == 1, 1], label=\"Fraudulent\", alpha=0.5, linewidth=0.15, c='#d62728')\n",
    "    plt.legend()\n",
    "    return plt.show()\n",
    "\n",
    "plot_data(X_transformation, y)"
   ]
  },
  {
   "cell_type": "code",
   "execution_count": null,
   "id": "a07c46e9",
   "metadata": {
    "execution": {
     "iopub.status.busy": "2022-03-24T11:22:22.204691Z",
     "iopub.status.idle": "2022-03-24T11:22:22.204991Z",
     "shell.execute_reply": "2022-03-24T11:22:22.204851Z",
     "shell.execute_reply.started": "2022-03-24T11:22:22.204835Z"
    },
    "papermill": {
     "duration": null,
     "end_time": null,
     "exception": null,
     "start_time": null,
     "status": "pending"
    },
    "tags": []
   },
   "outputs": [],
   "source": [
    "data_train.head()"
   ]
  },
  {
   "cell_type": "code",
   "execution_count": null,
   "id": "98acb112",
   "metadata": {
    "execution": {
     "iopub.status.busy": "2022-03-24T11:22:22.206598Z",
     "iopub.status.idle": "2022-03-24T11:22:22.20704Z",
     "shell.execute_reply": "2022-03-24T11:22:22.206901Z",
     "shell.execute_reply.started": "2022-03-24T11:22:22.206885Z"
    },
    "papermill": {
     "duration": null,
     "end_time": null,
     "exception": null,
     "start_time": null,
     "status": "pending"
    },
    "tags": []
   },
   "outputs": [],
   "source": [
    "from sklearn.preprocessing import StandardScaler\n",
    "Scaler = StandardScaler().fit(data_train[['Time', 'Amount']])\n",
    "data_train[['Time', 'Amount']] = Scaler.transform(data_train[['Time', 'Amount']])\n",
    "data_test[['Time', 'Amount']] = Scaler.transform(data_test[['Time', 'Amount']])"
   ]
  },
  {
   "cell_type": "code",
   "execution_count": null,
   "id": "b050d46b",
   "metadata": {
    "execution": {
     "iopub.status.busy": "2022-03-24T11:22:22.208105Z",
     "iopub.status.idle": "2022-03-24T11:22:22.208446Z",
     "shell.execute_reply": "2022-03-24T11:22:22.208292Z",
     "shell.execute_reply.started": "2022-03-24T11:22:22.208275Z"
    },
    "papermill": {
     "duration": null,
     "end_time": null,
     "exception": null,
     "start_time": null,
     "status": "pending"
    },
    "tags": []
   },
   "outputs": [],
   "source": [
    "train_data, label_data = data_train.iloc[:,:-1],data_train.iloc[:,-1]\n",
    "data_train.head()"
   ]
  },
  {
   "cell_type": "code",
   "execution_count": null,
   "id": "b73d76fd",
   "metadata": {
    "execution": {
     "iopub.status.busy": "2022-03-24T11:22:22.210003Z",
     "iopub.status.idle": "2022-03-24T11:22:22.21099Z",
     "shell.execute_reply": "2022-03-24T11:22:22.210782Z",
     "shell.execute_reply.started": "2022-03-24T11:22:22.210751Z"
    },
    "papermill": {
     "duration": null,
     "end_time": null,
     "exception": null,
     "start_time": null,
     "status": "pending"
    },
    "tags": []
   },
   "outputs": [],
   "source": [
    "data_dmatrix = xgb.DMatrix(data=train_data, label= label_data)\n",
    "\n",
    "X_train, X_test, y_train, y_test = train_test_split(\n",
    "                                    train_data, label_data, test_size=0.3,random_state=42)\n",
    "                                    \n",
    "params = {\n",
    "    'objective':'reg:logistic',\n",
    "    'colsample_bytree': 0.3,\n",
    "    'learning_rate': 0.1,\n",
    "    'bootstrap': True, \n",
    "    'criterion': 'gini', \n",
    "    'max_depth': 4, \n",
    "    'max_features': 'auto', \n",
    "    'n_estimators': 50\n",
    "}\n",
    "xg_reg = xgb.train(params=params, dtrain=data_dmatrix, num_boost_round=10)\n",
    "\n",
    "#Feature importance graph\n",
    "plt.rcParams['figure.figsize'] = [20, 10]\n",
    "xgb.plot_importance(xg_reg)"
   ]
  },
  {
   "cell_type": "code",
   "execution_count": null,
   "id": "873bace8",
   "metadata": {
    "execution": {
     "iopub.status.busy": "2022-03-24T11:22:22.211961Z",
     "iopub.status.idle": "2022-03-24T11:22:22.212564Z",
     "shell.execute_reply": "2022-03-24T11:22:22.212402Z",
     "shell.execute_reply.started": "2022-03-24T11:22:22.212377Z"
    },
    "papermill": {
     "duration": null,
     "end_time": null,
     "exception": null,
     "start_time": null,
     "status": "pending"
    },
    "tags": []
   },
   "outputs": [],
   "source": [
    "data_model = data_train.drop(['V25', 'Time', 'V20', 'V22', 'V8', 'V2'], axis=1)\n",
    "data_model_test = data_test.drop(['V25', 'Time', 'V20', 'V22', 'V8', 'V2'], axis=1)"
   ]
  },
  {
   "cell_type": "code",
   "execution_count": null,
   "id": "5dddebe2",
   "metadata": {
    "execution": {
     "iopub.status.busy": "2022-03-24T11:22:22.213801Z",
     "iopub.status.idle": "2022-03-24T11:22:22.21415Z",
     "shell.execute_reply": "2022-03-24T11:22:22.213966Z",
     "shell.execute_reply.started": "2022-03-24T11:22:22.213949Z"
    },
    "papermill": {
     "duration": null,
     "end_time": null,
     "exception": null,
     "start_time": null,
     "status": "pending"
    },
    "tags": []
   },
   "outputs": [],
   "source": [
    "data_under_nonfraud = data_model[data_model['Class'] == 0].sample(15000)\n",
    "data_under_fraud  = data_model[data_model['Class'] == 1]\n",
    "\n",
    "data_undersampling = data_under_nonfraud.append(data_under_fraud, \n",
    "                                                ignore_index=True, sort=False)\n",
    "                                                \n",
    "plt.figure(figsize=(10,10))\n",
    "sns.countplot(y=\"Class\", data=data_undersampling,palette='Dark2')\n",
    "plt.title('Fraudulent Transaction Summary')\n",
    "plt.xlabel('Count')\n",
    "plt.ylabel('Fraudulent Transaction,        Non-Fraudulent Transaction')"
   ]
  },
  {
   "cell_type": "code",
   "execution_count": null,
   "id": "92fd897c",
   "metadata": {
    "execution": {
     "iopub.status.busy": "2022-03-24T11:22:22.215244Z",
     "iopub.status.idle": "2022-03-24T11:22:22.215561Z",
     "shell.execute_reply": "2022-03-24T11:22:22.215412Z",
     "shell.execute_reply.started": "2022-03-24T11:22:22.215392Z"
    },
    "papermill": {
     "duration": null,
     "end_time": null,
     "exception": null,
     "start_time": null,
     "status": "pending"
    },
    "tags": []
   },
   "outputs": [],
   "source": [
    "data_test.info()"
   ]
  },
  {
   "cell_type": "code",
   "execution_count": null,
   "id": "954991a3",
   "metadata": {
    "execution": {
     "iopub.status.busy": "2022-03-24T11:22:22.216484Z",
     "iopub.status.idle": "2022-03-24T11:22:22.216802Z",
     "shell.execute_reply": "2022-03-24T11:22:22.216649Z",
     "shell.execute_reply.started": "2022-03-24T11:22:22.216626Z"
    },
    "papermill": {
     "duration": null,
     "end_time": null,
     "exception": null,
     "start_time": null,
     "status": "pending"
    },
    "tags": []
   },
   "outputs": [],
   "source": [
    "modelLR = LogisticRegression(\n",
    "    solver='lbfgs', \n",
    "    multi_class='multinomial',\n",
    "    class_weight='balanced', \n",
    "    max_iter=500, \n",
    "    random_state=42\n",
    ").fit(X_train, y_train)\n",
    "\n",
    "# Obtain predictions from the test data \n",
    "predict_LR = modelLR.predict(X_test)\n",
    "predict = modelLR.predict(data_test)"
   ]
  },
  {
   "cell_type": "code",
   "execution_count": null,
   "id": "25fcdf5e",
   "metadata": {
    "execution": {
     "iopub.status.busy": "2022-03-24T11:22:22.217951Z",
     "iopub.status.idle": "2022-03-24T11:22:22.218305Z",
     "shell.execute_reply": "2022-03-24T11:22:22.218136Z",
     "shell.execute_reply.started": "2022-03-24T11:22:22.218093Z"
    },
    "papermill": {
     "duration": null,
     "end_time": null,
     "exception": null,
     "start_time": null,
     "status": "pending"
    },
    "tags": []
   },
   "outputs": [],
   "source": [
    "data = {'Predicted':predict}\n",
    "submissionDF = pd.DataFrame(data)\n",
    "submissionDF.to_csv('submission_test.csv', index=True, index_label = \"Id\")"
   ]
  }
 ],
 "metadata": {
  "kernelspec": {
   "display_name": "Python 3",
   "language": "python",
   "name": "python3"
  },
  "language_info": {
   "codemirror_mode": {
    "name": "ipython",
    "version": 3
   },
   "file_extension": ".py",
   "mimetype": "text/x-python",
   "name": "python",
   "nbconvert_exporter": "python",
   "pygments_lexer": "ipython3",
   "version": "3.7.12"
  },
  "papermill": {
   "default_parameters": {},
   "duration": 10.687796,
   "end_time": "2022-03-24T11:24:26.796897",
   "environment_variables": {},
   "exception": true,
   "input_path": "__notebook__.ipynb",
   "output_path": "__notebook__.ipynb",
   "parameters": {},
   "start_time": "2022-03-24T11:24:16.109101",
   "version": "2.3.3"
  }
 },
 "nbformat": 4,
 "nbformat_minor": 5
}
